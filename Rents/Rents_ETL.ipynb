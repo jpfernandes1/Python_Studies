{
 "cells": [
  {
   "cell_type": "markdown",
   "id": "e3012995",
   "metadata": {},
   "source": [
    "### Libraries and Data Frame"
   ]
  },
  {
   "cell_type": "code",
   "execution_count": 1,
   "id": "0693cb23",
   "metadata": {},
   "outputs": [],
   "source": [
    "import pandas as pd\n",
    "import seaborn as sn\n",
    "import numpy as np\n",
    "import matplotlib.pyplot as plt"
   ]
  },
  {
   "cell_type": "code",
   "execution_count": 5,
   "id": "341df994",
   "metadata": {},
   "outputs": [],
   "source": [
    "df = pd.read_csv('aluguel.csv', sep =';')"
   ]
  },
  {
   "cell_type": "markdown",
   "id": "135a6e99",
   "metadata": {},
   "source": [
    "### Exploring data"
   ]
  },
  {
   "cell_type": "code",
   "execution_count": 18,
   "id": "b9814ec6",
   "metadata": {},
   "outputs": [
    {
     "data": {
      "text/plain": [
       "(32960, 9)"
      ]
     },
     "execution_count": 18,
     "metadata": {},
     "output_type": "execute_result"
    }
   ],
   "source": [
    "df.shape"
   ]
  },
  {
   "cell_type": "code",
   "execution_count": 21,
   "id": "2ae121cc",
   "metadata": {},
   "outputs": [
    {
     "data": {
      "text/plain": [
       "Tipo          False\n",
       "Bairro        False\n",
       "Quartos       False\n",
       "Vagas         False\n",
       "Suites        False\n",
       "Area          False\n",
       "Valor          True\n",
       "Condominio     True\n",
       "IPTU           True\n",
       "dtype: bool"
      ]
     },
     "execution_count": 21,
     "metadata": {},
     "output_type": "execute_result"
    }
   ],
   "source": [
    "# Checking if there are null values on the DF:\n",
    "#df.info()\n",
    "pd.isnull(df).any()"
   ]
  },
  {
   "cell_type": "code",
   "execution_count": 32,
   "id": "797f7a49",
   "metadata": {},
   "outputs": [
    {
     "data": {
      "text/plain": [
       "Tipo          False\n",
       "Bairro        False\n",
       "Quartos       False\n",
       "Vagas         False\n",
       "Suites        False\n",
       "Area          False\n",
       "Valor          True\n",
       "Condominio     True\n",
       "IPTU           True\n",
       "dtype: bool"
      ]
     },
     "execution_count": 32,
     "metadata": {},
     "output_type": "execute_result"
    }
   ],
   "source": [
    "# Filtering a data frame that has a null value in any of its cells\n",
    "df.isna().any(axis = 0) # It shows acording the columns\n",
    "df.isna().any(axis = 1) # It shows by rows"
   ]
  },
  {
   "cell_type": "code",
   "execution_count": 37,
   "id": "1b761ce8",
   "metadata": {},
   "outputs": [],
   "source": [
    "# Then we can apply it as a mask/filter in our original dataframe\n",
    "df1 = df[df.isna().any(axis = 1)]"
   ]
  },
  {
   "cell_type": "code",
   "execution_count": 35,
   "id": "82dc890d",
   "metadata": {},
   "outputs": [
    {
     "data": {
      "text/html": [
       "<div>\n",
       "<style scoped>\n",
       "    .dataframe tbody tr th:only-of-type {\n",
       "        vertical-align: middle;\n",
       "    }\n",
       "\n",
       "    .dataframe tbody tr th {\n",
       "        vertical-align: top;\n",
       "    }\n",
       "\n",
       "    .dataframe thead th {\n",
       "        text-align: right;\n",
       "    }\n",
       "</style>\n",
       "<table border=\"1\" class=\"dataframe\">\n",
       "  <thead>\n",
       "    <tr style=\"text-align: right;\">\n",
       "      <th></th>\n",
       "      <th>Tipo</th>\n",
       "      <th>Bairro</th>\n",
       "      <th>Quartos</th>\n",
       "      <th>Vagas</th>\n",
       "      <th>Suites</th>\n",
       "      <th>Area</th>\n",
       "      <th>Valor</th>\n",
       "      <th>Condominio</th>\n",
       "      <th>IPTU</th>\n",
       "    </tr>\n",
       "  </thead>\n",
       "  <tbody>\n",
       "    <tr>\n",
       "      <th>76</th>\n",
       "      <td>Apartamento</td>\n",
       "      <td>Barra da Tijuca</td>\n",
       "      <td>2</td>\n",
       "      <td>1</td>\n",
       "      <td>1</td>\n",
       "      <td>70</td>\n",
       "      <td>NaN</td>\n",
       "      <td>970.0</td>\n",
       "      <td>68.0</td>\n",
       "    </tr>\n",
       "    <tr>\n",
       "      <th>2186</th>\n",
       "      <td>Apartamento</td>\n",
       "      <td>Leme</td>\n",
       "      <td>2</td>\n",
       "      <td>0</td>\n",
       "      <td>0</td>\n",
       "      <td>75</td>\n",
       "      <td>NaN</td>\n",
       "      <td>878.0</td>\n",
       "      <td>NaN</td>\n",
       "    </tr>\n",
       "    <tr>\n",
       "      <th>2456</th>\n",
       "      <td>Casa</td>\n",
       "      <td>Campo Grande</td>\n",
       "      <td>3</td>\n",
       "      <td>4</td>\n",
       "      <td>3</td>\n",
       "      <td>363</td>\n",
       "      <td>NaN</td>\n",
       "      <td>NaN</td>\n",
       "      <td>NaN</td>\n",
       "    </tr>\n",
       "    <tr>\n",
       "      <th>2646</th>\n",
       "      <td>Loja/Salão</td>\n",
       "      <td>Barra da Tijuca</td>\n",
       "      <td>0</td>\n",
       "      <td>2</td>\n",
       "      <td>0</td>\n",
       "      <td>80</td>\n",
       "      <td>NaN</td>\n",
       "      <td>NaN</td>\n",
       "      <td>NaN</td>\n",
       "    </tr>\n",
       "    <tr>\n",
       "      <th>2941</th>\n",
       "      <td>Apartamento</td>\n",
       "      <td>Botafogo</td>\n",
       "      <td>2</td>\n",
       "      <td>0</td>\n",
       "      <td>0</td>\n",
       "      <td>95</td>\n",
       "      <td>NaN</td>\n",
       "      <td>1010.0</td>\n",
       "      <td>170.0</td>\n",
       "    </tr>\n",
       "    <tr>\n",
       "      <th>2973</th>\n",
       "      <td>Apartamento</td>\n",
       "      <td>Copacabana</td>\n",
       "      <td>2</td>\n",
       "      <td>0</td>\n",
       "      <td>0</td>\n",
       "      <td>72</td>\n",
       "      <td>NaN</td>\n",
       "      <td>850.0</td>\n",
       "      <td>NaN</td>\n",
       "    </tr>\n",
       "    <tr>\n",
       "      <th>6598</th>\n",
       "      <td>Loja/Salão</td>\n",
       "      <td>Andaraí</td>\n",
       "      <td>0</td>\n",
       "      <td>0</td>\n",
       "      <td>0</td>\n",
       "      <td>326</td>\n",
       "      <td>NaN</td>\n",
       "      <td>NaN</td>\n",
       "      <td>1140.0</td>\n",
       "    </tr>\n",
       "    <tr>\n",
       "      <th>7302</th>\n",
       "      <td>Casa</td>\n",
       "      <td>Campo Grande</td>\n",
       "      <td>3</td>\n",
       "      <td>2</td>\n",
       "      <td>1</td>\n",
       "      <td>100</td>\n",
       "      <td>NaN</td>\n",
       "      <td>NaN</td>\n",
       "      <td>NaN</td>\n",
       "    </tr>\n",
       "    <tr>\n",
       "      <th>12683</th>\n",
       "      <td>Apartamento</td>\n",
       "      <td>Leme</td>\n",
       "      <td>2</td>\n",
       "      <td>0</td>\n",
       "      <td>1</td>\n",
       "      <td>75</td>\n",
       "      <td>NaN</td>\n",
       "      <td>878.0</td>\n",
       "      <td>NaN</td>\n",
       "    </tr>\n",
       "    <tr>\n",
       "      <th>13229</th>\n",
       "      <td>Apartamento</td>\n",
       "      <td>Glória</td>\n",
       "      <td>3</td>\n",
       "      <td>0</td>\n",
       "      <td>1</td>\n",
       "      <td>135</td>\n",
       "      <td>NaN</td>\n",
       "      <td>910.0</td>\n",
       "      <td>228.0</td>\n",
       "    </tr>\n",
       "    <tr>\n",
       "      <th>13525</th>\n",
       "      <td>Apartamento</td>\n",
       "      <td>Gávea</td>\n",
       "      <td>3</td>\n",
       "      <td>1</td>\n",
       "      <td>1</td>\n",
       "      <td>105</td>\n",
       "      <td>NaN</td>\n",
       "      <td>880.0</td>\n",
       "      <td>221.0</td>\n",
       "    </tr>\n",
       "    <tr>\n",
       "      <th>13579</th>\n",
       "      <td>Conjunto Comercial/Sala</td>\n",
       "      <td>Botafogo</td>\n",
       "      <td>0</td>\n",
       "      <td>3</td>\n",
       "      <td>0</td>\n",
       "      <td>200</td>\n",
       "      <td>NaN</td>\n",
       "      <td>10.0</td>\n",
       "      <td>NaN</td>\n",
       "    </tr>\n",
       "    <tr>\n",
       "      <th>20948</th>\n",
       "      <td>Conjunto Comercial/Sala</td>\n",
       "      <td>Freguesia (Jacarepaguá)</td>\n",
       "      <td>0</td>\n",
       "      <td>1</td>\n",
       "      <td>0</td>\n",
       "      <td>24</td>\n",
       "      <td>NaN</td>\n",
       "      <td>500.0</td>\n",
       "      <td>74.0</td>\n",
       "    </tr>\n",
       "    <tr>\n",
       "      <th>21822</th>\n",
       "      <td>Loja Shopping/ Ct Comercial</td>\n",
       "      <td>Barra da Tijuca</td>\n",
       "      <td>0</td>\n",
       "      <td>2</td>\n",
       "      <td>0</td>\n",
       "      <td>77</td>\n",
       "      <td>NaN</td>\n",
       "      <td>3600.0</td>\n",
       "      <td>1390.0</td>\n",
       "    </tr>\n",
       "    <tr>\n",
       "      <th>23056</th>\n",
       "      <td>Conjunto Comercial/Sala</td>\n",
       "      <td>Botafogo</td>\n",
       "      <td>0</td>\n",
       "      <td>0</td>\n",
       "      <td>0</td>\n",
       "      <td>900</td>\n",
       "      <td>NaN</td>\n",
       "      <td>10.0</td>\n",
       "      <td>NaN</td>\n",
       "    </tr>\n",
       "    <tr>\n",
       "      <th>24805</th>\n",
       "      <td>Conjunto Comercial/Sala</td>\n",
       "      <td>Botafogo</td>\n",
       "      <td>0</td>\n",
       "      <td>0</td>\n",
       "      <td>0</td>\n",
       "      <td>500</td>\n",
       "      <td>NaN</td>\n",
       "      <td>10.0</td>\n",
       "      <td>NaN</td>\n",
       "    </tr>\n",
       "    <tr>\n",
       "      <th>29166</th>\n",
       "      <td>Conjunto Comercial/Sala</td>\n",
       "      <td>Botafogo</td>\n",
       "      <td>0</td>\n",
       "      <td>1</td>\n",
       "      <td>0</td>\n",
       "      <td>50</td>\n",
       "      <td>NaN</td>\n",
       "      <td>10.0</td>\n",
       "      <td>NaN</td>\n",
       "    </tr>\n",
       "  </tbody>\n",
       "</table>\n",
       "</div>"
      ],
      "text/plain": [
       "                              Tipo                   Bairro  Quartos  Vagas  \\\n",
       "76                     Apartamento          Barra da Tijuca        2      1   \n",
       "2186                   Apartamento                     Leme        2      0   \n",
       "2456                          Casa             Campo Grande        3      4   \n",
       "2646                    Loja/Salão          Barra da Tijuca        0      2   \n",
       "2941                   Apartamento                 Botafogo        2      0   \n",
       "2973                   Apartamento               Copacabana        2      0   \n",
       "6598                    Loja/Salão                  Andaraí        0      0   \n",
       "7302                          Casa             Campo Grande        3      2   \n",
       "12683                  Apartamento                     Leme        2      0   \n",
       "13229                  Apartamento                   Glória        3      0   \n",
       "13525                  Apartamento                    Gávea        3      1   \n",
       "13579      Conjunto Comercial/Sala                 Botafogo        0      3   \n",
       "20948      Conjunto Comercial/Sala  Freguesia (Jacarepaguá)        0      1   \n",
       "21822  Loja Shopping/ Ct Comercial          Barra da Tijuca        0      2   \n",
       "23056      Conjunto Comercial/Sala                 Botafogo        0      0   \n",
       "24805      Conjunto Comercial/Sala                 Botafogo        0      0   \n",
       "29166      Conjunto Comercial/Sala                 Botafogo        0      1   \n",
       "\n",
       "       Suites  Area  Valor  Condominio    IPTU  \n",
       "76          1    70    NaN       970.0    68.0  \n",
       "2186        0    75    NaN       878.0     NaN  \n",
       "2456        3   363    NaN         NaN     NaN  \n",
       "2646        0    80    NaN         NaN     NaN  \n",
       "2941        0    95    NaN      1010.0   170.0  \n",
       "2973        0    72    NaN       850.0     NaN  \n",
       "6598        0   326    NaN         NaN  1140.0  \n",
       "7302        1   100    NaN         NaN     NaN  \n",
       "12683       1    75    NaN       878.0     NaN  \n",
       "13229       1   135    NaN       910.0   228.0  \n",
       "13525       1   105    NaN       880.0   221.0  \n",
       "13579       0   200    NaN        10.0     NaN  \n",
       "20948       0    24    NaN       500.0    74.0  \n",
       "21822       0    77    NaN      3600.0  1390.0  \n",
       "23056       0   900    NaN        10.0     NaN  \n",
       "24805       0   500    NaN        10.0     NaN  \n",
       "29166       0    50    NaN        10.0     NaN  "
      ]
     },
     "execution_count": 35,
     "metadata": {},
     "output_type": "execute_result"
    }
   ],
   "source": [
    "# Lets see which records have null values on the 'Valor' columns\n",
    "df[df['Valor'].isna()]"
   ]
  },
  {
   "cell_type": "markdown",
   "id": "d07875d5",
   "metadata": {},
   "source": [
    "### Handling Data"
   ]
  },
  {
   "cell_type": "code",
   "execution_count": 47,
   "id": "b4353f49",
   "metadata": {},
   "outputs": [
    {
     "data": {
      "text/plain": [
       "(4093, 9)"
      ]
     },
     "execution_count": 47,
     "metadata": {},
     "output_type": "execute_result"
    }
   ],
   "source": [
    "# Once we Know wich columns have missing values (Valor, Condominio, IPTU)  , lets take a look at them:\n",
    "df[df.Condominio.isna()].shape"
   ]
  },
  {
   "cell_type": "code",
   "execution_count": 48,
   "id": "2d91961d",
   "metadata": {},
   "outputs": [
    {
     "data": {
      "text/plain": [
       "(10237, 9)"
      ]
     },
     "execution_count": 48,
     "metadata": {},
     "output_type": "execute_result"
    }
   ],
   "source": [
    "df[df.IPTU.isnull()].shape"
   ]
  },
  {
   "cell_type": "markdown",
   "id": "58d1c2f7",
   "metadata": {},
   "source": [
    "#### At this point we've decided to substitute null values by the overall average, but it can be assigned according the needs and the business rules"
   ]
  },
  {
   "cell_type": "code",
   "execution_count": 54,
   "id": "efc96695",
   "metadata": {},
   "outputs": [],
   "source": [
    "df = df.fillna({'Condominio': df.Condominio.mean(), 'IPTU':df.IPTU.mean()})"
   ]
  },
  {
   "cell_type": "code",
   "execution_count": 55,
   "id": "502f98b5",
   "metadata": {},
   "outputs": [
    {
     "data": {
      "text/plain": [
       "False"
      ]
     },
     "execution_count": 55,
     "metadata": {},
     "output_type": "execute_result"
    }
   ],
   "source": [
    "df.IPTU.isna().any()"
   ]
  },
  {
   "cell_type": "code",
   "execution_count": 56,
   "id": "ca08e8bf",
   "metadata": {},
   "outputs": [
    {
     "data": {
      "text/plain": [
       "False"
      ]
     },
     "execution_count": 56,
     "metadata": {},
     "output_type": "execute_result"
    }
   ],
   "source": [
    "df.Condominio.isna().any()"
   ]
  },
  {
   "cell_type": "code",
   "execution_count": 62,
   "id": "c04fa17c",
   "metadata": {},
   "outputs": [
    {
     "data": {
      "text/plain": [
       "(17, 9)"
      ]
     },
     "execution_count": 62,
     "metadata": {},
     "output_type": "execute_result"
    }
   ],
   "source": [
    "# Now lets handle 'Valor' column:\n",
    "df[df.Valor.isna()].shape"
   ]
  },
  {
   "cell_type": "code",
   "execution_count": 64,
   "id": "5543c88d",
   "metadata": {},
   "outputs": [
    {
     "data": {
      "text/html": [
       "<div>\n",
       "<style scoped>\n",
       "    .dataframe tbody tr th:only-of-type {\n",
       "        vertical-align: middle;\n",
       "    }\n",
       "\n",
       "    .dataframe tbody tr th {\n",
       "        vertical-align: top;\n",
       "    }\n",
       "\n",
       "    .dataframe thead th {\n",
       "        text-align: right;\n",
       "    }\n",
       "</style>\n",
       "<table border=\"1\" class=\"dataframe\">\n",
       "  <thead>\n",
       "    <tr style=\"text-align: right;\">\n",
       "      <th></th>\n",
       "      <th>Tipo</th>\n",
       "      <th>Bairro</th>\n",
       "      <th>Quartos</th>\n",
       "      <th>Vagas</th>\n",
       "      <th>Suites</th>\n",
       "      <th>Area</th>\n",
       "      <th>Valor</th>\n",
       "      <th>Condominio</th>\n",
       "      <th>IPTU</th>\n",
       "    </tr>\n",
       "  </thead>\n",
       "  <tbody>\n",
       "    <tr>\n",
       "      <th>76</th>\n",
       "      <td>Apartamento</td>\n",
       "      <td>Barra da Tijuca</td>\n",
       "      <td>2</td>\n",
       "      <td>1</td>\n",
       "      <td>1</td>\n",
       "      <td>70</td>\n",
       "      <td>NaN</td>\n",
       "      <td>970.000000</td>\n",
       "      <td>68.000000</td>\n",
       "    </tr>\n",
       "    <tr>\n",
       "      <th>2186</th>\n",
       "      <td>Apartamento</td>\n",
       "      <td>Leme</td>\n",
       "      <td>2</td>\n",
       "      <td>0</td>\n",
       "      <td>0</td>\n",
       "      <td>75</td>\n",
       "      <td>NaN</td>\n",
       "      <td>878.000000</td>\n",
       "      <td>2364.409585</td>\n",
       "    </tr>\n",
       "    <tr>\n",
       "      <th>2456</th>\n",
       "      <td>Casa</td>\n",
       "      <td>Campo Grande</td>\n",
       "      <td>3</td>\n",
       "      <td>4</td>\n",
       "      <td>3</td>\n",
       "      <td>363</td>\n",
       "      <td>NaN</td>\n",
       "      <td>2388.062424</td>\n",
       "      <td>2364.409585</td>\n",
       "    </tr>\n",
       "    <tr>\n",
       "      <th>2646</th>\n",
       "      <td>Loja/Salão</td>\n",
       "      <td>Barra da Tijuca</td>\n",
       "      <td>0</td>\n",
       "      <td>2</td>\n",
       "      <td>0</td>\n",
       "      <td>80</td>\n",
       "      <td>NaN</td>\n",
       "      <td>2388.062424</td>\n",
       "      <td>2364.409585</td>\n",
       "    </tr>\n",
       "    <tr>\n",
       "      <th>2941</th>\n",
       "      <td>Apartamento</td>\n",
       "      <td>Botafogo</td>\n",
       "      <td>2</td>\n",
       "      <td>0</td>\n",
       "      <td>0</td>\n",
       "      <td>95</td>\n",
       "      <td>NaN</td>\n",
       "      <td>1010.000000</td>\n",
       "      <td>170.000000</td>\n",
       "    </tr>\n",
       "    <tr>\n",
       "      <th>2973</th>\n",
       "      <td>Apartamento</td>\n",
       "      <td>Copacabana</td>\n",
       "      <td>2</td>\n",
       "      <td>0</td>\n",
       "      <td>0</td>\n",
       "      <td>72</td>\n",
       "      <td>NaN</td>\n",
       "      <td>850.000000</td>\n",
       "      <td>2364.409585</td>\n",
       "    </tr>\n",
       "    <tr>\n",
       "      <th>6598</th>\n",
       "      <td>Loja/Salão</td>\n",
       "      <td>Andaraí</td>\n",
       "      <td>0</td>\n",
       "      <td>0</td>\n",
       "      <td>0</td>\n",
       "      <td>326</td>\n",
       "      <td>NaN</td>\n",
       "      <td>2388.062424</td>\n",
       "      <td>1140.000000</td>\n",
       "    </tr>\n",
       "    <tr>\n",
       "      <th>7302</th>\n",
       "      <td>Casa</td>\n",
       "      <td>Campo Grande</td>\n",
       "      <td>3</td>\n",
       "      <td>2</td>\n",
       "      <td>1</td>\n",
       "      <td>100</td>\n",
       "      <td>NaN</td>\n",
       "      <td>2388.062424</td>\n",
       "      <td>2364.409585</td>\n",
       "    </tr>\n",
       "    <tr>\n",
       "      <th>12683</th>\n",
       "      <td>Apartamento</td>\n",
       "      <td>Leme</td>\n",
       "      <td>2</td>\n",
       "      <td>0</td>\n",
       "      <td>1</td>\n",
       "      <td>75</td>\n",
       "      <td>NaN</td>\n",
       "      <td>878.000000</td>\n",
       "      <td>2364.409585</td>\n",
       "    </tr>\n",
       "    <tr>\n",
       "      <th>13229</th>\n",
       "      <td>Apartamento</td>\n",
       "      <td>Glória</td>\n",
       "      <td>3</td>\n",
       "      <td>0</td>\n",
       "      <td>1</td>\n",
       "      <td>135</td>\n",
       "      <td>NaN</td>\n",
       "      <td>910.000000</td>\n",
       "      <td>228.000000</td>\n",
       "    </tr>\n",
       "    <tr>\n",
       "      <th>13525</th>\n",
       "      <td>Apartamento</td>\n",
       "      <td>Gávea</td>\n",
       "      <td>3</td>\n",
       "      <td>1</td>\n",
       "      <td>1</td>\n",
       "      <td>105</td>\n",
       "      <td>NaN</td>\n",
       "      <td>880.000000</td>\n",
       "      <td>221.000000</td>\n",
       "    </tr>\n",
       "    <tr>\n",
       "      <th>13579</th>\n",
       "      <td>Conjunto Comercial/Sala</td>\n",
       "      <td>Botafogo</td>\n",
       "      <td>0</td>\n",
       "      <td>3</td>\n",
       "      <td>0</td>\n",
       "      <td>200</td>\n",
       "      <td>NaN</td>\n",
       "      <td>10.000000</td>\n",
       "      <td>2364.409585</td>\n",
       "    </tr>\n",
       "    <tr>\n",
       "      <th>20948</th>\n",
       "      <td>Conjunto Comercial/Sala</td>\n",
       "      <td>Freguesia (Jacarepaguá)</td>\n",
       "      <td>0</td>\n",
       "      <td>1</td>\n",
       "      <td>0</td>\n",
       "      <td>24</td>\n",
       "      <td>NaN</td>\n",
       "      <td>500.000000</td>\n",
       "      <td>74.000000</td>\n",
       "    </tr>\n",
       "    <tr>\n",
       "      <th>21822</th>\n",
       "      <td>Loja Shopping/ Ct Comercial</td>\n",
       "      <td>Barra da Tijuca</td>\n",
       "      <td>0</td>\n",
       "      <td>2</td>\n",
       "      <td>0</td>\n",
       "      <td>77</td>\n",
       "      <td>NaN</td>\n",
       "      <td>3600.000000</td>\n",
       "      <td>1390.000000</td>\n",
       "    </tr>\n",
       "    <tr>\n",
       "      <th>23056</th>\n",
       "      <td>Conjunto Comercial/Sala</td>\n",
       "      <td>Botafogo</td>\n",
       "      <td>0</td>\n",
       "      <td>0</td>\n",
       "      <td>0</td>\n",
       "      <td>900</td>\n",
       "      <td>NaN</td>\n",
       "      <td>10.000000</td>\n",
       "      <td>2364.409585</td>\n",
       "    </tr>\n",
       "    <tr>\n",
       "      <th>24805</th>\n",
       "      <td>Conjunto Comercial/Sala</td>\n",
       "      <td>Botafogo</td>\n",
       "      <td>0</td>\n",
       "      <td>0</td>\n",
       "      <td>0</td>\n",
       "      <td>500</td>\n",
       "      <td>NaN</td>\n",
       "      <td>10.000000</td>\n",
       "      <td>2364.409585</td>\n",
       "    </tr>\n",
       "    <tr>\n",
       "      <th>29166</th>\n",
       "      <td>Conjunto Comercial/Sala</td>\n",
       "      <td>Botafogo</td>\n",
       "      <td>0</td>\n",
       "      <td>1</td>\n",
       "      <td>0</td>\n",
       "      <td>50</td>\n",
       "      <td>NaN</td>\n",
       "      <td>10.000000</td>\n",
       "      <td>2364.409585</td>\n",
       "    </tr>\n",
       "  </tbody>\n",
       "</table>\n",
       "</div>"
      ],
      "text/plain": [
       "                              Tipo                   Bairro  Quartos  Vagas  \\\n",
       "76                     Apartamento          Barra da Tijuca        2      1   \n",
       "2186                   Apartamento                     Leme        2      0   \n",
       "2456                          Casa             Campo Grande        3      4   \n",
       "2646                    Loja/Salão          Barra da Tijuca        0      2   \n",
       "2941                   Apartamento                 Botafogo        2      0   \n",
       "2973                   Apartamento               Copacabana        2      0   \n",
       "6598                    Loja/Salão                  Andaraí        0      0   \n",
       "7302                          Casa             Campo Grande        3      2   \n",
       "12683                  Apartamento                     Leme        2      0   \n",
       "13229                  Apartamento                   Glória        3      0   \n",
       "13525                  Apartamento                    Gávea        3      1   \n",
       "13579      Conjunto Comercial/Sala                 Botafogo        0      3   \n",
       "20948      Conjunto Comercial/Sala  Freguesia (Jacarepaguá)        0      1   \n",
       "21822  Loja Shopping/ Ct Comercial          Barra da Tijuca        0      2   \n",
       "23056      Conjunto Comercial/Sala                 Botafogo        0      0   \n",
       "24805      Conjunto Comercial/Sala                 Botafogo        0      0   \n",
       "29166      Conjunto Comercial/Sala                 Botafogo        0      1   \n",
       "\n",
       "       Suites  Area  Valor   Condominio         IPTU  \n",
       "76          1    70    NaN   970.000000    68.000000  \n",
       "2186        0    75    NaN   878.000000  2364.409585  \n",
       "2456        3   363    NaN  2388.062424  2364.409585  \n",
       "2646        0    80    NaN  2388.062424  2364.409585  \n",
       "2941        0    95    NaN  1010.000000   170.000000  \n",
       "2973        0    72    NaN   850.000000  2364.409585  \n",
       "6598        0   326    NaN  2388.062424  1140.000000  \n",
       "7302        1   100    NaN  2388.062424  2364.409585  \n",
       "12683       1    75    NaN   878.000000  2364.409585  \n",
       "13229       1   135    NaN   910.000000   228.000000  \n",
       "13525       1   105    NaN   880.000000   221.000000  \n",
       "13579       0   200    NaN    10.000000  2364.409585  \n",
       "20948       0    24    NaN   500.000000    74.000000  \n",
       "21822       0    77    NaN  3600.000000  1390.000000  \n",
       "23056       0   900    NaN    10.000000  2364.409585  \n",
       "24805       0   500    NaN    10.000000  2364.409585  \n",
       "29166       0    50    NaN    10.000000  2364.409585  "
      ]
     },
     "execution_count": 64,
     "metadata": {},
     "output_type": "execute_result"
    }
   ],
   "source": [
    "df[df.Valor.isna()]"
   ]
  },
  {
   "cell_type": "code",
   "execution_count": 65,
   "id": "db505fe8",
   "metadata": {},
   "outputs": [],
   "source": [
    "# To 'Valor' we've decided to delete rows with null values:\n",
    "\n",
    "df = df.dropna()"
   ]
  },
  {
   "cell_type": "code",
   "execution_count": 66,
   "id": "83812ad6",
   "metadata": {},
   "outputs": [
    {
     "data": {
      "text/plain": [
       "Tipo          False\n",
       "Bairro        False\n",
       "Quartos       False\n",
       "Vagas         False\n",
       "Suites        False\n",
       "Area          False\n",
       "Valor         False\n",
       "Condominio    False\n",
       "IPTU          False\n",
       "dtype: bool"
      ]
     },
     "execution_count": 66,
     "metadata": {},
     "output_type": "execute_result"
    }
   ],
   "source": [
    "df.isna().any()"
   ]
  },
  {
   "cell_type": "markdown",
   "id": "2ff9e6b3",
   "metadata": {},
   "source": [
    "Saving Data Frame:"
   ]
  },
  {
   "cell_type": "code",
   "execution_count": 67,
   "id": "b916c539",
   "metadata": {},
   "outputs": [],
   "source": [
    "df.to_csv(r'C:\\Users\\JOÃO PAULO FERNANDES\\Documents\\PROJECTS\\Python_Studies-main\\Rents\\aluguel_ETL.csv')"
   ]
  },
  {
   "cell_type": "markdown",
   "id": "cc4455d7",
   "metadata": {},
   "source": [
    "## Outliers"
   ]
  },
  {
   "cell_type": "code",
   "execution_count": null,
   "id": "2b031d5b",
   "metadata": {},
   "outputs": [],
   "source": []
  }
 ],
 "metadata": {
  "kernelspec": {
   "display_name": "Python 3 (ipykernel)",
   "language": "python",
   "name": "python3"
  },
  "language_info": {
   "codemirror_mode": {
    "name": "ipython",
    "version": 3
   },
   "file_extension": ".py",
   "mimetype": "text/x-python",
   "name": "python",
   "nbconvert_exporter": "python",
   "pygments_lexer": "ipython3",
   "version": "3.9.12"
  }
 },
 "nbformat": 4,
 "nbformat_minor": 5
}
