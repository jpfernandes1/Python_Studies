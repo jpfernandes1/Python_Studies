{
 "cells": [
  {
   "cell_type": "markdown",
   "id": "4f98575c",
   "metadata": {},
   "source": [
    "#  Supervised Learning"
   ]
  },
  {
   "cell_type": "markdown",
   "id": "796815c4",
   "metadata": {},
   "source": [
    "###  Types of supervised learning"
   ]
  },
  {
   "cell_type": "markdown",
   "id": "c9f1d4ac",
   "metadata": {},
   "source": [
    "**Classification**: Target variable consists of categories\n",
    "\n",
    "**Regression**: Target variable is continuous"
   ]
  },
  {
   "cell_type": "markdown",
   "id": "9e70f52e",
   "metadata": {},
   "source": [
    "### Naming conventions"
   ]
  },
  {
   "cell_type": "markdown",
   "id": "b4e209fa",
   "metadata": {},
   "source": [
    "Feature = predictor variable = independent variable\n",
    "\n",
    "Target variable = dependent variable = response variable\n"
   ]
  },
  {
   "cell_type": "markdown",
   "id": "a75da81e",
   "metadata": {},
   "source": [
    "**Requirements:**\n",
    "- No missing values\n",
    "- Data in numeric format\n",
    "- Data stored in pandas DataFrame or NumPy array\n",
    "- Perform Exploratory Data Analysis (EDA) "
   ]
  },
  {
   "cell_type": "markdown",
   "id": "969b967e",
   "metadata": {},
   "source": [
    "### Scikit-learn Syntax"
   ]
  },
  {
   "cell_type": "code",
   "execution_count": null,
   "id": "45e27ad5",
   "metadata": {},
   "outputs": [],
   "source": [
    "from sklearn.module import Model\n",
    "model = Model()\n",
    "model.fit(X, y)\n",
    "predictions = model.predict(X_new)\n",
    "print(predictions)"
   ]
  },
  {
   "cell_type": "markdown",
   "id": "61e58523",
   "metadata": {},
   "source": [
    "**k-Nearest Neighbors**\n",
    "\n",
    "Predict the label of a data point by Looking at the k closest labeled data pointsTaking a majority vote"
   ]
  },
  {
   "cell_type": "markdown",
   "id": "71fff675",
   "metadata": {},
   "source": [
    "**Using scikit-learn to fit a classifier**"
   ]
  },
  {
   "cell_type": "code",
   "execution_count": null,
   "id": "362aee17",
   "metadata": {},
   "outputs": [],
   "source": [
    "from sklearn.neighbors import KNeighborsClassifier\n",
    "X = dataframe[[\"feature_1\",\"feature_2\",\"feature_n\"]].values\n",
    "y = dataframe[\"target_variable\"].values\n",
    "print(X.shape, y.shape)"
   ]
  },
  {
   "cell_type": "code",
   "execution_count": null,
   "id": "c315a57b",
   "metadata": {},
   "outputs": [],
   "source": [
    "knn = KNeighborsClassifier(n_neighbors=n) #n= how many neighbors do you want to consideer\n",
    "knn.fit(X, y)"
   ]
  },
  {
   "cell_type": "markdown",
   "id": "785d3c34",
   "metadata": {},
   "source": [
    "**Predicting on unlabeled data**"
   ]
  },
  {
   "cell_type": "code",
   "execution_count": null,
   "id": "020f1304",
   "metadata": {},
   "outputs": [],
   "source": [
    "X_new = np.array([[56.8, 17.5],\n",
    "                  [24.4, 24.1],\n",
    "                  [50.1, 10.9]])\n",
    "print(X_new.shape) #We are just passing some input values to the model. Then it will predict the output for y."
   ]
  },
  {
   "cell_type": "code",
   "execution_count": null,
   "id": "03a9dc50",
   "metadata": {},
   "outputs": [],
   "source": [
    "predictions = knn.predict(X_new)\n",
    "print('Predictions: {}'.format(predictions))"
   ]
  },
  {
   "cell_type": "markdown",
   "id": "f3652d42",
   "metadata": {},
   "source": [
    "## Measuring model performance\n",
    "\n",
    "To do it, we need to split data in Training and test set."
   ]
  },
  {
   "cell_type": "code",
   "execution_count": null,
   "id": "62999d19",
   "metadata": {},
   "outputs": [],
   "source": [
    "accuracy = correct_predictions/total_observations"
   ]
  },
  {
   "cell_type": "markdown",
   "id": "7a0fe567",
   "metadata": {},
   "source": [
    "### Train/test split"
   ]
  },
  {
   "cell_type": "code",
   "execution_count": null,
   "id": "92cf5d63",
   "metadata": {},
   "outputs": [],
   "source": [
    "from sklearn.model_selection import train_test_split\n",
    "\n",
    "X_train, X_test, y_train, y_test = train_test_split(X, y, test_size=0.3, random_state=21, stratify=y)\n",
    "knn = KNeighborsClassifier(n_neighbors=6)\n",
    "knn.fit(X_train, y_train)\n",
    "\n",
    "print(knn.score(X_test, y_test))"
   ]
  },
  {
   "cell_type": "markdown",
   "id": "e77ef9a1",
   "metadata": {},
   "source": [
    "**Model complexity**\n",
    "- Larger k = less complex model = can cause underfiting\n",
    "- Smaller k = more complex model = can lead to over"
   ]
  },
  {
   "cell_type": "markdown",
   "id": "71bd35bd",
   "metadata": {},
   "source": [
    "### Model complexity and over/underfitting"
   ]
  },
  {
   "cell_type": "code",
   "execution_count": null,
   "id": "3dd61dc4",
   "metadata": {},
   "outputs": [],
   "source": [
    "# Using this structure we can see diferent neighbor values and comparate who fits better.\n",
    "train_accuracies = {}\n",
    "test_accuracies = {}\n",
    "neighbors = np.arange(1, 26)\n",
    "\n",
    "for neighbor in neighbors:\n",
    "    knn = KNeighborsClassifier(n_neighbors=neighbor)\n",
    "    knn.fit(X_train, y_train)\n",
    "    train_accuracies[neighbor] = knn.score(X_train, y_train)\n",
    "    test_accuracies[neighbor] = knn.score(X_test, y_test)\n"
   ]
  },
  {
   "cell_type": "markdown",
   "id": "cddb9d5f",
   "metadata": {},
   "source": [
    "**Plotting our results**"
   ]
  },
  {
   "cell_type": "code",
   "execution_count": null,
   "id": "e92cfe7e",
   "metadata": {},
   "outputs": [],
   "source": [
    "plt.figure(figsize=(8, 6))\n",
    "plt.title(\"KNN: Varying Number of Neighbors\")\n",
    "plt.plot(neighbors, train_accuracies.values(), label=\"Training Accuracy\")\n",
    "plt.plot(neighbors, test_accuracies.values(), label=\"Testing Accuracy\")\n",
    "plt.legend()\n",
    "plt.xlabel(\"Number of Neighbors\")\n",
    "plt.ylabel(\"Accuracy\")\n",
    "plt.show()"
   ]
  },
  {
   "cell_type": "markdown",
   "id": "4e5534b5",
   "metadata": {},
   "source": [
    "## Regression"
   ]
  },
  {
   "cell_type": "markdown",
   "id": "04ffea1a",
   "metadata": {},
   "source": [
    "**Creating feature and target arrays**"
   ]
  },
  {
   "cell_type": "code",
   "execution_count": null,
   "id": "3ba195a5",
   "metadata": {},
   "outputs": [],
   "source": [
    "X = diabetes_df.drop(\"target_variable\", axis=1).values\n",
    "y = diabetes_df[\"target_variable\"].values\n",
    "print(type(X), type(y))\n"
   ]
  },
  {
   "cell_type": "markdown",
   "id": "a27421a2",
   "metadata": {},
   "source": [
    "**Making predictions from a single feature**"
   ]
  },
  {
   "cell_type": "code",
   "execution_count": null,
   "id": "697ea9ff",
   "metadata": {},
   "outputs": [],
   "source": [
    "X_bmi = X[:, 3]\n",
    "print(y.shape, X_bmi.shape)"
   ]
  },
  {
   "cell_type": "code",
   "execution_count": null,
   "id": "da523dd9",
   "metadata": {},
   "outputs": [],
   "source": [
    "X_bmi = X_bmi.reshape(-1, 1)\n",
    "print(X_bmi.shape)"
   ]
  },
  {
   "cell_type": "markdown",
   "id": "a18c8d16",
   "metadata": {},
   "source": [
    "### Plotting"
   ]
  },
  {
   "cell_type": "code",
   "execution_count": null,
   "id": "a72bfc07",
   "metadata": {},
   "outputs": [],
   "source": [
    "import matplotlib.pyplot as plt\n",
    "plt.scatter(X_bmi, y)\n",
    "plt.ylabel(\"Blood Glucose (mg/dl)\")\n",
    "plt.xlabel(\"Body Mass Index\")\n",
    "plt.show()"
   ]
  },
  {
   "cell_type": "markdown",
   "id": "6c18eea9",
   "metadata": {},
   "source": [
    "### Fitting a regression model"
   ]
  },
  {
   "cell_type": "code",
   "execution_count": null,
   "id": "0e8e97d8",
   "metadata": {},
   "outputs": [],
   "source": [
    "from sklearn.linear_model import LinearRegression\n",
    "reg = LinearRegression()\n",
    "reg.fit(X_bmi, y)\n",
    "predictions = reg.predict(X_bmi)\n",
    "plt.scatter(X_bmi, y)\n",
    "plt.plot(X_bmi, predictions) #line\n",
    "plt.ylabel(\"Blood Glucose (mg/dl)\")\n",
    "plt.xlabel(\"Body Mass Index\")\n",
    "plt.show()"
   ]
  },
  {
   "cell_type": "markdown",
   "id": "a74b7876",
   "metadata": {},
   "source": [
    "## Linear regression using all features"
   ]
  },
  {
   "cell_type": "code",
   "execution_count": null,
   "id": "85f07649",
   "metadata": {},
   "outputs": [],
   "source": [
    "from sklearn.model_selection import train_test_split\n",
    "from sklearn.linear_model import LinearRegression\n",
    "X_train, X_test, y_train, y_test = train_test_split(X, y, test_size=0.3, random_ state=42)\n",
    "reg_all = LinearRegression()\n",
    "reg_all.fit(X_train, y_train)\n",
    "y_pred = reg_all.predict(X_test)"
   ]
  },
  {
   "cell_type": "markdown",
   "id": "783a7fde",
   "metadata": {},
   "source": [
    "**R-squared**\n",
    "\n",
    "R² : quantifies the variance in target values explained by the features\n",
    "\n",
    "Values range from 0 to 1"
   ]
  },
  {
   "cell_type": "markdown",
   "id": "b98a612d",
   "metadata": {},
   "source": [
    "**R-squared in scikit-learn**"
   ]
  },
  {
   "cell_type": "code",
   "execution_count": null,
   "id": "fdb82f36",
   "metadata": {},
   "outputs": [],
   "source": [
    "reg_all.score(X_test, y_test)"
   ]
  },
  {
   "cell_type": "markdown",
   "id": "f0e1d3cd",
   "metadata": {},
   "source": [
    "### Mean squared error and root mean squared error"
   ]
  },
  {
   "cell_type": "markdown",
   "id": "b1e8433b",
   "metadata": {},
   "source": [
    "- MSE is measured in target units, squared\n",
    "- Measure RMSE in the same units at the target variable"
   ]
  },
  {
   "cell_type": "markdown",
   "id": "84a1af8f",
   "metadata": {},
   "source": [
    "**RMSE in scikit-learn**"
   ]
  },
  {
   "cell_type": "code",
   "execution_count": null,
   "id": "def47c46",
   "metadata": {},
   "outputs": [],
   "source": [
    "from sklearn.metrics import mean_squared_error\n",
    "mean_squared_error(y_test, y_pred, squared=False)"
   ]
  },
  {
   "cell_type": "markdown",
   "id": "6f147be5",
   "metadata": {},
   "source": [
    "## Cross-validation"
   ]
  },
  {
   "cell_type": "markdown",
   "id": "dce0c14f",
   "metadata": {},
   "source": [
    "Model performance is dependent on the way we split up the data\n",
    "Not representative of the model's ability to generalize to unseen data\n",
    "Solution: Cross-validation!"
   ]
  },
  {
   "cell_type": "markdown",
   "id": "e1968c38",
   "metadata": {},
   "source": [
    "* 5 folds = 5-fold CV\n",
    "* 10 folds = 10-fold CV\n",
    "* k folds = k-fold CV\n",
    "\n",
    "More folds = More computationally expensive\n"
   ]
  },
  {
   "cell_type": "markdown",
   "id": "d9cdc4f3",
   "metadata": {},
   "source": [
    "### Cross-validation in scikit-learn"
   ]
  },
  {
   "cell_type": "code",
   "execution_count": null,
   "id": "be1411f0",
   "metadata": {},
   "outputs": [],
   "source": [
    "from sklearn.model_selection import cross_val_score, KFold\n",
    "kf = KFold(n_splits=6, shuffle=True, random_state=42)\n",
    "reg = LinearRegression()\n",
    "cv_results = cross_val_score(reg, X, y, cv=kf)"
   ]
  },
  {
   "cell_type": "markdown",
   "id": "6ab3b6d0",
   "metadata": {},
   "source": [
    "#### Evaluating cross-validation peformance"
   ]
  },
  {
   "cell_type": "code",
   "execution_count": null,
   "id": "6b14e449",
   "metadata": {},
   "outputs": [],
   "source": [
    "print(cv_results)"
   ]
  },
  {
   "cell_type": "code",
   "execution_count": null,
   "id": "570b7155",
   "metadata": {},
   "outputs": [],
   "source": [
    "print(np.mean(cv_results), np.std(cv_results))"
   ]
  },
  {
   "cell_type": "code",
   "execution_count": null,
   "id": "bbf17198",
   "metadata": {},
   "outputs": [],
   "source": [
    "print(np.quantile(cv_results, [0.025, 0.975])"
   ]
  },
  {
   "cell_type": "markdown",
   "id": "efc2c38f",
   "metadata": {},
   "source": [
    "### Regularized regression\n",
    "\n",
    "It's a technique used to avoid overfitting"
   ]
  },
  {
   "cell_type": "code",
   "execution_count": null,
   "id": "fc289f37",
   "metadata": {},
   "outputs": [],
   "source": []
  }
 ],
 "metadata": {
  "kernelspec": {
   "display_name": "Python 3 (ipykernel)",
   "language": "python",
   "name": "python3"
  },
  "language_info": {
   "codemirror_mode": {
    "name": "ipython",
    "version": 3
   },
   "file_extension": ".py",
   "mimetype": "text/x-python",
   "name": "python",
   "nbconvert_exporter": "python",
   "pygments_lexer": "ipython3",
   "version": "3.9.13"
  }
 },
 "nbformat": 4,
 "nbformat_minor": 5
}
