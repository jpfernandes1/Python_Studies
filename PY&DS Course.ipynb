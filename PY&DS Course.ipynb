{
 "cells": [
  {
   "cell_type": "markdown",
   "id": "2dd43898",
   "metadata": {},
   "source": [
    "### Numpy"
   ]
  },
  {
   "cell_type": "markdown",
   "id": "de08bb3b",
   "metadata": {},
   "source": [
    "#### first of all, let's see the differences between a numpy array and a list:"
   ]
  },
  {
   "cell_type": "code",
   "execution_count": 1,
   "id": "54138d14",
   "metadata": {},
   "outputs": [],
   "source": [
    "import numpy as np"
   ]
  },
  {
   "cell_type": "code",
   "execution_count": 4,
   "id": "5778968e",
   "metadata": {},
   "outputs": [],
   "source": [
    "myarray = np.array([3.14,44,44.5,2.18])"
   ]
  },
  {
   "cell_type": "code",
   "execution_count": 10,
   "id": "3ecdfc60",
   "metadata": {},
   "outputs": [
    {
     "data": {
      "text/plain": [
       "array([ 3.14, 44.  , 44.5 ,  2.18])"
      ]
     },
     "execution_count": 10,
     "metadata": {},
     "output_type": "execute_result"
    }
   ],
   "source": [
    "myarray"
   ]
  },
  {
   "cell_type": "code",
   "execution_count": 7,
   "id": "9afa179f",
   "metadata": {},
   "outputs": [
    {
     "data": {
      "text/plain": [
       "numpy.ndarray"
      ]
     },
     "execution_count": 7,
     "metadata": {},
     "output_type": "execute_result"
    }
   ],
   "source": [
    "type(myarray)"
   ]
  },
  {
   "cell_type": "code",
   "execution_count": 8,
   "id": "fb180ea6",
   "metadata": {},
   "outputs": [],
   "source": [
    "mylist = [3.14,44,44.5,2.18]"
   ]
  },
  {
   "cell_type": "code",
   "execution_count": 11,
   "id": "b1d85045",
   "metadata": {},
   "outputs": [
    {
     "data": {
      "text/plain": [
       "[3.14, 44, 44.5, 2.18]"
      ]
     },
     "execution_count": 11,
     "metadata": {},
     "output_type": "execute_result"
    }
   ],
   "source": [
    "mylist"
   ]
  },
  {
   "cell_type": "code",
   "execution_count": 9,
   "id": "576dcbe4",
   "metadata": {},
   "outputs": [
    {
     "data": {
      "text/plain": [
       "list"
      ]
     },
     "execution_count": 9,
     "metadata": {},
     "output_type": "execute_result"
    }
   ],
   "source": [
    "type(mylist)"
   ]
  },
  {
   "cell_type": "code",
   "execution_count": 12,
   "id": "88ed91d7",
   "metadata": {},
   "outputs": [],
   "source": [
    "result1 = myarray*10"
   ]
  },
  {
   "cell_type": "code",
   "execution_count": 14,
   "id": "8d4d88ac",
   "metadata": {},
   "outputs": [
    {
     "data": {
      "text/plain": [
       "array([ 31.4, 440. , 445. ,  21.8])"
      ]
     },
     "execution_count": 14,
     "metadata": {},
     "output_type": "execute_result"
    }
   ],
   "source": [
    "result1"
   ]
  },
  {
   "cell_type": "code",
   "execution_count": 13,
   "id": "9f887f81",
   "metadata": {},
   "outputs": [],
   "source": [
    "result2 = mylist*10"
   ]
  },
  {
   "cell_type": "code",
   "execution_count": 16,
   "id": "3479a6e9",
   "metadata": {},
   "outputs": [
    {
     "name": "stdout",
     "output_type": "stream",
     "text": [
      "[3.14, 44, 44.5, 2.18, 3.14, 44, 44.5, 2.18, 3.14, 44, 44.5, 2.18, 3.14, 44, 44.5, 2.18, 3.14, 44, 44.5, 2.18, 3.14, 44, 44.5, 2.18, 3.14, 44, 44.5, 2.18, 3.14, 44, 44.5, 2.18, 3.14, 44, 44.5, 2.18, 3.14, 44, 44.5, 2.18]\n"
     ]
    }
   ],
   "source": [
    "print(result2)"
   ]
  },
  {
   "cell_type": "code",
   "execution_count": 18,
   "id": "99006d23",
   "metadata": {},
   "outputs": [],
   "source": [
    "mat1 = np.matrix([[1,2],[3,4]])"
   ]
  },
  {
   "cell_type": "code",
   "execution_count": 19,
   "id": "74854764",
   "metadata": {},
   "outputs": [
    {
     "data": {
      "text/plain": [
       "matrix([[ 7, 10],\n",
       "        [15, 22]])"
      ]
     },
     "execution_count": 19,
     "metadata": {},
     "output_type": "execute_result"
    }
   ],
   "source": [
    "mat1*mat1"
   ]
  },
  {
   "cell_type": "code",
   "execution_count": null,
   "id": "7696c70e",
   "metadata": {},
   "outputs": [],
   "source": []
  }
 ],
 "metadata": {
  "kernelspec": {
   "display_name": "Python 3 (ipykernel)",
   "language": "python",
   "name": "python3"
  },
  "language_info": {
   "codemirror_mode": {
    "name": "ipython",
    "version": 3
   },
   "file_extension": ".py",
   "mimetype": "text/x-python",
   "name": "python",
   "nbconvert_exporter": "python",
   "pygments_lexer": "ipython3",
   "version": "3.9.12"
  }
 },
 "nbformat": 4,
 "nbformat_minor": 5
}
